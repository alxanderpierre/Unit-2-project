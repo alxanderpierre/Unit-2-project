{
  "nbformat": 4,
  "nbformat_minor": 0,
  "metadata": {
    "colab": {
      "name": "Unit 2_Final_Project 1.ipynb",
      "provenance": [],
      "collapsed_sections": [],
      "include_colab_link": true
    },
    "kernelspec": {
      "name": "python3",
      "display_name": "Python 3"
    },
    "accelerator": "GPU"
  },
  "cells": [
    {
      "cell_type": "markdown",
      "metadata": {
        "id": "view-in-github",
        "colab_type": "text"
      },
      "source": [
        "<a href=\"https://colab.research.google.com/github/alxanderpierre/Unit-2-project/blob/master/Unit_2_Final_Project_1.ipynb\" target=\"_parent\"><img src=\"https://colab.research.google.com/assets/colab-badge.svg\" alt=\"Open In Colab\"/></a>"
      ]
    },
    {
      "cell_type": "markdown",
      "metadata": {
        "id": "EG1VG0Rbv7zY",
        "colab_type": "text"
      },
      "source": [
        "# Introduction \n",
        "\n",
        "The city government of Los Angeles makes a portion of their city income from city parking citations. However in the recent months Mayor Gardenhire has been forced to cut 100 jobs from 7 city ran parking agencies, and he is planning to cut more . Thes jobs were cut impart to poor city budgeting, but mainly due to the new civil roadway projects going on downtown.  \n",
        "\n",
        "The Mayor is entering an election year and does not want to increase taxes on the public to pay for the much needed roadway project, based on the fear of not being re-elected. Instead he has chosen to let go of several city jobs that will likely go unnoticed by the voting public. Parking citation workers are one of these jobs. \n",
        "\n",
        "Here is where we come in. As a data scientist for the city’s board of trustee’s office you have been asked to help with this issue. \n",
        "\n",
        "**Our goal is to create a model for these 7 agencies that will predict the most profitable areas based off time and price of ticket to protol in hopes to increase the citation revenue. Remember these agencies are short handed due to the job cuts, so the accuracy has to be high due to their inability to cover a large area. People’s job security is on the line here so lets make them a great model** . \n"
      ]
    },
    {
      "cell_type": "markdown",
      "metadata": {
        "id": "3XVRNRyd8EFf",
        "colab_type": "text"
      },
      "source": [
        "# Import and setup "
      ]
    },
    {
      "cell_type": "code",
      "metadata": {
        "id": "llxGtSEa5f5z",
        "colab_type": "code",
        "colab": {}
      },
      "source": [
        "import pandas as pd\n",
        "import numpy as np\n",
        "import sys\n",
        "!{sys.executable} -m pip install category_encoders\n",
        "import sys\n",
        "!{sys.executable} -m pip install xgboost\n",
        "import category_encoders as ce\n",
        "from xgboost import XGBClassifier\n",
        "import sys\n",
        "!{sys.executable} -m pip install eli5\n",
        "from eli5.sklearn import PermutationImportance\n",
        "import category_encoders as ce\n",
        "import seaborn as sns\n",
        "from sklearn.ensemble import RandomForestClassifier\n",
        "import sys\n",
        "!{sys.executable} -m pip install pdpbox\n",
        "%matplotlib inline\n",
        "import matplotlib.pyplot as plt\n",
        "from pdpbox import pdp\n",
        "from sklearn.model_selection import train_test_split\n",
        "from sklearn.impute import SimpleImputer\n",
        "from sklearn.ensemble import RandomForestClassifier\n",
        "from sklearn.model_selection import train_test_split\n",
        "from sklearn.pipeline import make_pipeline\n",
        "from sklearn.model_selection import cross_val_score\n",
        "from sklearn.metrics import roc_curve\n",
        "from sklearn.metrics import roc_auc_score\n",
        "from sklearn.metrics import accuracy_score\n",
        "from sklearn.preprocessing import OneHotEncoder\n",
        "from sklearn.utils.multiclass import unique_labels\n",
        "from sklearn.metrics import confusion_matrix"
      ],
      "execution_count": 0,
      "outputs": []
    },
    {
      "cell_type": "code",
      "metadata": {
        "id": "7P6EyqhO5_aC",
        "colab_type": "code",
        "colab": {}
      },
      "source": [
        "import sys\n",
        "in_colab = 'google.colab' in sys.modules\n",
        "\n",
        "if in_colab:\n",
        "    # Install packages in Colab\n",
        "    !pip install category_encoders==2.0.0\n",
        "    !pip install eli5==0.10.1\n",
        "    !pip install pandas-profiling==2.3.0\n",
        "    !pip install pdpbox==0.2.0\n",
        "    !pip install plotly==4.1.1\n",
        "    !pip install shap==0.30.0"
      ],
      "execution_count": 0,
      "outputs": []
    },
    {
      "cell_type": "markdown",
      "metadata": {
        "id": "G9-CKDCz7-HM",
        "colab_type": "text"
      },
      "source": [
        "# Load and Clean our data."
      ]
    },
    {
      "cell_type": "code",
      "metadata": {
        "id": "ARogoz116AB5",
        "colab_type": "code",
        "colab": {}
      },
      "source": [
        "from google.colab import files \n",
        "uploaded = files.upload()"
      ],
      "execution_count": 0,
      "outputs": []
    },
    {
      "cell_type": "code",
      "metadata": {
        "id": "k8w4kx176OFA",
        "colab_type": "code",
        "colab": {}
      },
      "source": [
        "df = pd.read_csv('parking-citations.csv')"
      ],
      "execution_count": 0,
      "outputs": []
    },
    {
      "cell_type": "code",
      "metadata": {
        "id": "wRPmLYQK6R_v",
        "colab_type": "code",
        "colab": {}
      },
      "source": [
        "df_time = df['Issue time']\n",
        "df_time.value_counts(ascending=False, bins=6)# even tho it my start the time at 787 we know that that just how \n",
        "# python binned the data. we know that the mins stop at 59 in the dataframe. \n",
        "# next lets put these bins back in the dataframe so that they can be cata and be easier to create a cata model "
      ],
      "execution_count": 0,
      "outputs": []
    },
    {
      "cell_type": "code",
      "metadata": {
        "id": "yfPQ4s1i7LMz",
        "colab_type": "code",
        "colab": {}
      },
      "source": [
        "df_time = pd.DataFrame(df_time)\n",
        "df_time['time_bins'] = pd.cut(x=df['Issue time'],\n",
        "                              bins=[-2,400,800,1200,1600,2000,2400],labels= ['12:00am - 4:00am','4:00am - 8:00am', '8:00am - 12:00pm', '12:00pm - 4:00pm',\n",
        "                                       '4:00pm - 8:00pm', '8:00pm - Midnight'])"
      ],
      "execution_count": 0,
      "outputs": []
    },
    {
      "cell_type": "code",
      "metadata": {
        "id": "4mfY4Yo5_ubq",
        "colab_type": "code",
        "colab": {}
      },
      "source": [
        "df['Time Bins'] = df_time['time_bins'] "
      ],
      "execution_count": 0,
      "outputs": []
    },
    {
      "cell_type": "markdown",
      "metadata": {
        "id": "eQUHdrAw8LU1",
        "colab_type": "text"
      },
      "source": [
        "# Drop unnessary columns and rows"
      ]
    },
    {
      "cell_type": "code",
      "metadata": {
        "id": "3SVx3iRY7LJ8",
        "colab_type": "code",
        "colab": {}
      },
      "source": [
        "df_new = df.drop(columns=['Plate Expiry Date','RP State Plate','Violation code','Violation Description','Ticket number',\n",
        "                          'Marked Time', 'RP State Plate','VIN','Violation code'])"
      ],
      "execution_count": 0,
      "outputs": []
    },
    {
      "cell_type": "code",
      "metadata": {
        "id": "hT1jzVKo7LGT",
        "colab_type": "code",
        "colab": {}
      },
      "source": [
        "df_new = df_new.drop(index=53557)"
      ],
      "execution_count": 0,
      "outputs": []
    },
    {
      "cell_type": "code",
      "metadata": {
        "id": "6LOX2q-a-c6S",
        "colab_type": "code",
        "colab": {}
      },
      "source": [
        "df_new.head()"
      ],
      "execution_count": 0,
      "outputs": []
    },
    {
      "cell_type": "code",
      "metadata": {
        "id": "VdQoLzbc9Hi9",
        "colab_type": "code",
        "colab": {}
      },
      "source": [
        "df_new['Fine amount'] = df_new['Fine amount'].astype(str)\n",
        "df_new['Agency'] = df_new['Agency'].astype(str)\n"
      ],
      "execution_count": 0,
      "outputs": []
    },
    {
      "cell_type": "code",
      "metadata": {
        "id": "kRQ6gUt87zri",
        "colab_type": "code",
        "colab": {}
      },
      "source": [
        "df['Issue Date'].sort_values()"
      ],
      "execution_count": 0,
      "outputs": []
    },
    {
      "cell_type": "code",
      "metadata": {
        "id": "f-aX1OJEDv70",
        "colab_type": "code",
        "colab": {}
      },
      "source": [
        "df.shape, df_new.shape"
      ],
      "execution_count": 0,
      "outputs": []
    },
    {
      "cell_type": "code",
      "metadata": {
        "id": "ooAv9cfYENLX",
        "colab_type": "code",
        "colab": {}
      },
      "source": [
        "df['Fine amount'].value_counts()"
      ],
      "execution_count": 0,
      "outputs": []
    },
    {
      "cell_type": "code",
      "metadata": {
        "id": "pqYskjvTEUd9",
        "colab_type": "code",
        "colab": {}
      },
      "source": [
        "df_new['Fine amount'].value_counts()"
      ],
      "execution_count": 0,
      "outputs": []
    },
    {
      "cell_type": "markdown",
      "metadata": {
        "id": "ZyGd8cMxCSqu",
        "colab_type": "text"
      },
      "source": [
        "These columns were listed as floats/ int however they are in reality catagorical var and should be repersented as such \n",
        "\n"
      ]
    },
    {
      "cell_type": "markdown",
      "metadata": {
        "id": "eRb_Jb9F-yHP",
        "colab_type": "text"
      },
      "source": [
        "# Ticket Revenue"
      ]
    },
    {
      "cell_type": "code",
      "metadata": {
        "id": "nufiIwe0v5Qr",
        "colab_type": "code",
        "colab": {}
      },
      "source": [
        "ticket = pd.DataFrame(df_new['Fine amount'].value_counts())"
      ],
      "execution_count": 0,
      "outputs": []
    },
    {
      "cell_type": "code",
      "metadata": {
        "id": "hd0kuU5X0RWe",
        "colab_type": "code",
        "colab": {}
      },
      "source": [
        "tickets = {'ticket amounts':[73,63,68,93,25,58,163,363,293,78,250,1000,500,53,50,143],\n",
        "           'ticket counts': [20177,8814,7388,6941,4879,4064,669,306,105,85,63,30,24,8,3,1],\n",
        "           'ticket revenue':[1468541,555282,502384,645513,121975,235712,109047,111078,30765,6630,15750,30000,12000,424,429,50]}\n",
        "tickets= pd.DataFrame(data=tickets)"
      ],
      "execution_count": 0,
      "outputs": []
    },
    {
      "cell_type": "code",
      "metadata": {
        "id": "asD-SAeN3Ss6",
        "colab_type": "code",
        "colab": {}
      },
      "source": [
        "tickets.sum(axis =0, skipna = True)"
      ],
      "execution_count": 0,
      "outputs": []
    },
    {
      "cell_type": "code",
      "metadata": {
        "id": "FAJpbdft4fsO",
        "colab_type": "code",
        "colab": {}
      },
      "source": [
        "tickets = tickets.sort_values(by='ticket revenue',ascending=0)\n",
        "tickets"
      ],
      "execution_count": 0,
      "outputs": []
    },
    {
      "cell_type": "code",
      "metadata": {
        "id": "uDpWyQGG8mJM",
        "colab_type": "code",
        "colab": {}
      },
      "source": [
        "highlight_tickets = tickets.head(8).drop(index=4)"
      ],
      "execution_count": 0,
      "outputs": []
    },
    {
      "cell_type": "code",
      "metadata": {
        "id": "LELUpTl_892z",
        "colab_type": "code",
        "colab": {}
      },
      "source": [
        "highlight_tickets = highlight_tickets.drop(index=6)\n"
      ],
      "execution_count": 0,
      "outputs": []
    },
    {
      "cell_type": "code",
      "metadata": {
        "id": "ulIUhSifW494",
        "colab_type": "code",
        "colab": {}
      },
      "source": [
        "highlight_tickets"
      ],
      "execution_count": 0,
      "outputs": []
    },
    {
      "cell_type": "markdown",
      "metadata": {
        "id": "AChi3CZP5Nyz",
        "colab_type": "text"
      },
      "source": [
        "To optimize for the most profitable tickets we have been told by our superiors  to focus on tickets that are 120k and up. The 25 dollar tickets are sitting at 121,975 total and the $363 are sitting at 111078 dollar total. \n",
        "\n",
        "Why this is important to highligh? \n",
        "Because it took 4879 25 dollar citations to get 121K, and just 306 to get 111k for teh 363 dollar citations. \n",
        "\n",
        "Remember man power low and we are having to work efficiently. Therefore we are going to set our model to target the 363 dollar tickets over the 25 dollars due to it taking 15X more man power to generate nearly the same amount of revenue. "
      ]
    },
    {
      "cell_type": "code",
      "metadata": {
        "id": "mRZEpCbxRtXS",
        "colab_type": "code",
        "colab": {}
      },
      "source": [
        "df_new = df_new.rename(columns={'Fine amount':'fine_amount'})"
      ],
      "execution_count": 0,
      "outputs": []
    },
    {
      "cell_type": "code",
      "metadata": {
        "id": "IBl18WKwYTOU",
        "colab_type": "code",
        "colab": {}
      },
      "source": [
        "df_new.shape"
      ],
      "execution_count": 0,
      "outputs": []
    },
    {
      "cell_type": "code",
      "metadata": {
        "id": "KA17zUJ1CI92",
        "colab_type": "code",
        "colab": {}
      },
      "source": [
        "df_new = df_new[df_new.fine_amount != '50.0'] "
      ],
      "execution_count": 0,
      "outputs": []
    },
    {
      "cell_type": "code",
      "metadata": {
        "id": "iKoYi_BlU6Tx",
        "colab_type": "code",
        "colab": {}
      },
      "source": [
        "df_new = df_new[df_new.fine_amount != '143.0']"
      ],
      "execution_count": 0,
      "outputs": []
    },
    {
      "cell_type": "code",
      "metadata": {
        "id": "DlGJxVE1XhD3",
        "colab_type": "code",
        "colab": {}
      },
      "source": [
        "df_new = df_new[df_new.fine_amount != '53.0']"
      ],
      "execution_count": 0,
      "outputs": []
    },
    {
      "cell_type": "code",
      "metadata": {
        "id": "bfb75u71XhBS",
        "colab_type": "code",
        "colab": {}
      },
      "source": [
        "df_new = df_new[df_new.fine_amount != '78.0']"
      ],
      "execution_count": 0,
      "outputs": []
    },
    {
      "cell_type": "code",
      "metadata": {
        "id": "mNaxKu9wXg97",
        "colab_type": "code",
        "colab": {}
      },
      "source": [
        "df_new = df_new[df_new.fine_amount != '500.0']"
      ],
      "execution_count": 0,
      "outputs": []
    },
    {
      "cell_type": "code",
      "metadata": {
        "id": "Q1yVyJR4XqzQ",
        "colab_type": "code",
        "colab": {}
      },
      "source": [
        "df_new = df_new[df_new.fine_amount != '250.0']"
      ],
      "execution_count": 0,
      "outputs": []
    },
    {
      "cell_type": "code",
      "metadata": {
        "id": "FZvRgT0HXqwg",
        "colab_type": "code",
        "colab": {}
      },
      "source": [
        "df_new = df_new[df_new.fine_amount != '293.0']"
      ],
      "execution_count": 0,
      "outputs": []
    },
    {
      "cell_type": "code",
      "metadata": {
        "id": "5q8dSKsRXqtw",
        "colab_type": "code",
        "colab": {}
      },
      "source": [
        "df_new = df_new[df_new.fine_amount != '1000.0']"
      ],
      "execution_count": 0,
      "outputs": []
    },
    {
      "cell_type": "code",
      "metadata": {
        "id": "U65_XUHNXv8p",
        "colab_type": "code",
        "colab": {}
      },
      "source": [
        "df_new = df_new[df_new.fine_amount != '163.0']"
      ],
      "execution_count": 0,
      "outputs": []
    },
    {
      "cell_type": "code",
      "metadata": {
        "id": "NaXn3-16Xv5x",
        "colab_type": "code",
        "colab": {}
      },
      "source": [
        "df_new = df_new[df_new.fine_amount != '25.0']"
      ],
      "execution_count": 0,
      "outputs": []
    },
    {
      "cell_type": "code",
      "metadata": {
        "id": "PuGdQ7s2UZUY",
        "colab_type": "code",
        "colab": {}
      },
      "source": [
        "df_new.shape"
      ],
      "execution_count": 0,
      "outputs": []
    },
    {
      "cell_type": "code",
      "metadata": {
        "id": "xZ6DyOXBVGj-",
        "colab_type": "code",
        "colab": {}
      },
      "source": [
        ""
      ],
      "execution_count": 0,
      "outputs": []
    },
    {
      "cell_type": "markdown",
      "metadata": {
        "id": "4lRanucq7so2",
        "colab_type": "text"
      },
      "source": [
        "# Make X and y dataframes for train and test.\n",
        "# The target the is Fine Amount column "
      ]
    },
    {
      "cell_type": "code",
      "metadata": {
        "id": "0sdJtXux7LDR",
        "colab_type": "code",
        "colab": {}
      },
      "source": [
        "X = df_new.drop(columns=['fine_amount'])\n",
        "y = df_new['fine_amount']\n",
        "features = df_new.drop(columns=['fine_amount'])"
      ],
      "execution_count": 0,
      "outputs": []
    },
    {
      "cell_type": "code",
      "metadata": {
        "id": "rUloVb1f7K-6",
        "colab_type": "code",
        "colab": {}
      },
      "source": [
        "X_train,X_test,y_train, y_test = train_test_split(X,y, test_size=.20, random_state=42)\n",
        "#Choose which observations you will use to train, validate, and test your model\n",
        "\n",
        "X_train, X_val, y_train, y_val = train_test_split(X_train, y_train, train_size=.80, test_size=0.20, random_state=42)\n",
        "X_train.shape, X_val.shape , y_train.shape, y_val.shape"
      ],
      "execution_count": 0,
      "outputs": []
    },
    {
      "cell_type": "markdown",
      "metadata": {
        "id": "1oLocqid8raO",
        "colab_type": "text"
      },
      "source": [
        "This is a class imbalanced classification problem\n",
        "can we predict the price of a parking ticket based off the presenced varables \n"
      ]
    },
    {
      "cell_type": "code",
      "metadata": {
        "id": "BfciES-F8ldg",
        "colab_type": "code",
        "colab": {}
      },
      "source": [
        "y_train.value_counts(normalize=True) # Ticket price precentage "
      ],
      "execution_count": 0,
      "outputs": []
    },
    {
      "cell_type": "code",
      "metadata": {
        "id": "2-7LdqXwa-bU",
        "colab_type": "code",
        "colab": {}
      },
      "source": [
        "highlight_tickets"
      ],
      "execution_count": 0,
      "outputs": []
    },
    {
      "cell_type": "markdown",
      "metadata": {
        "id": "V2RgTdzubPat",
        "colab_type": "text"
      },
      "source": [
        "What i notice here is that tickets that 93.00 dollars are the most valueable ticket due to it low volume yet high return. Excellent item to focus on with our current man power problem. "
      ]
    },
    {
      "cell_type": "code",
      "metadata": {
        "id": "lrbuJPkO8-yV",
        "colab_type": "code",
        "colab": {}
      },
      "source": [
        "X_train.describe().T"
      ],
      "execution_count": 0,
      "outputs": []
    },
    {
      "cell_type": "markdown",
      "metadata": {
        "id": "WOpZARI-ECSY",
        "colab_type": "text"
      },
      "source": [
        "Descriptive stats for the non-numberic features\n"
      ]
    },
    {
      "cell_type": "code",
      "metadata": {
        "id": "fS1EdN4yBg-a",
        "colab_type": "code",
        "colab": {}
      },
      "source": [
        "X_train.describe(exclude= 'number').T.sort_values(by='unique')"
      ],
      "execution_count": 0,
      "outputs": []
    },
    {
      "cell_type": "markdown",
      "metadata": {
        "id": "H0jopyRRFCHl",
        "colab_type": "text"
      },
      "source": [
        "Time Bins looks like it could be a highly predictive feature \n"
      ]
    },
    {
      "cell_type": "code",
      "metadata": {
        "id": "jKjueeyDFAbu",
        "colab_type": "code",
        "colab": {}
      },
      "source": [
        "X_train['Time Bins'].value_counts()"
      ],
      "execution_count": 0,
      "outputs": []
    },
    {
      "cell_type": "code",
      "metadata": {
        "id": "TTORC21MDyiW",
        "colab_type": "code",
        "colab": {}
      },
      "source": [
        "X_train.isnull().sum().sort_values()"
      ],
      "execution_count": 0,
      "outputs": []
    },
    {
      "cell_type": "code",
      "metadata": {
        "id": "_yaALMtbcad6",
        "colab_type": "code",
        "colab": {}
      },
      "source": [
        ""
      ],
      "execution_count": 0,
      "outputs": []
    },
    {
      "cell_type": "markdown",
      "metadata": {
        "id": "3w4BGWeIF2-2",
        "colab_type": "text"
      },
      "source": [
        "See if we can fit a quick baseline with Time bins as the feature "
      ]
    },
    {
      "cell_type": "markdown",
      "metadata": {
        "id": "2yDoQNjowbyu",
        "colab_type": "text"
      },
      "source": [
        "# Acuracy Score and Pipeline fit "
      ]
    },
    {
      "cell_type": "code",
      "metadata": {
        "id": "u8fXGxk-FwZX",
        "colab_type": "code",
        "colab": {}
      },
      "source": [
        "pipeline = make_pipeline(\n",
        "    ce.OrdinalEncoder(),\n",
        "    RandomForestClassifier(\n",
        "        n_estimators=100,\n",
        "        class_weight='balanced',\n",
        "        n_jobs=-1,\n",
        "    )\n",
        ")\n",
        "pipeline.fit(X_train, y_train)\n",
        "print('Validation Accuracy', pipeline.score(X_val, y_val))"
      ],
      "execution_count": 0,
      "outputs": []
    },
    {
      "cell_type": "code",
      "metadata": {
        "id": "W-02ICzou3WW",
        "colab_type": "code",
        "colab": {}
      },
      "source": [
        "print('Test Accuracy', pipeline.score(X_test, y_test))"
      ],
      "execution_count": 0,
      "outputs": []
    },
    {
      "cell_type": "markdown",
      "metadata": {
        "id": "wTMriNrSnxXV",
        "colab_type": "text"
      },
      "source": [
        "# Permutation Importance and Feature Importance "
      ]
    },
    {
      "cell_type": "code",
      "metadata": {
        "id": "hpBHZ7-DnKQ0",
        "colab_type": "code",
        "colab": {}
      },
      "source": [
        "transformers = make_pipeline(\n",
        "    ce.OrdinalEncoder(), \n",
        "    SimpleImputer(strategy='median')\n",
        ")"
      ],
      "execution_count": 0,
      "outputs": []
    },
    {
      "cell_type": "code",
      "metadata": {
        "id": "Dc5y-KvTnDjD",
        "colab_type": "code",
        "colab": {}
      },
      "source": [
        "X_train_transformed = transformers.fit_transform(X_train)\n",
        "X_val_transformed = transformers.transform(X_val)\n",
        "model = RandomForestClassifier(n_estimators=100, random_state=42, n_jobs=-1)\n",
        "\n",
        "model.fit(X_train_transformed, y_train)"
      ],
      "execution_count": 0,
      "outputs": []
    },
    {
      "cell_type": "code",
      "metadata": {
        "id": "Im5MEk6SNDpt",
        "colab_type": "code",
        "colab": {}
      },
      "source": [
        "model.score(X_val_transformed, y_val)"
      ],
      "execution_count": 0,
      "outputs": []
    },
    {
      "cell_type": "code",
      "metadata": {
        "id": "nHoRaKRum6-2",
        "colab_type": "code",
        "colab": {}
      },
      "source": [
        "import eli5\n",
        "from eli5.sklearn import PermutationImportance\n",
        "\n",
        "permuter = PermutationImportance(\n",
        "    model,\n",
        "    scoring='accuracy', \n",
        "    n_iter=2, \n",
        "    random_state=42\n",
        ")\n"
      ],
      "execution_count": 0,
      "outputs": []
    },
    {
      "cell_type": "code",
      "metadata": {
        "id": "R9lR_pIPTCdV",
        "colab_type": "code",
        "colab": {}
      },
      "source": [
        "permuter.fit(X_val_transformed, y_val)\n",
        "feature_names = X_val.columns.tolist()\n",
        "\n",
        "eli5.show_weights(\n",
        "    permuter, \n",
        "    top=None, # show permutation importances for all features\n",
        "    feature_names=feature_names)"
      ],
      "execution_count": 0,
      "outputs": []
    },
    {
      "cell_type": "code",
      "metadata": {
        "id": "QHKoDQfDKXTF",
        "colab_type": "code",
        "colab": {}
      },
      "source": [
        "import pandas as pd\n",
        "\n",
        "rf = pipeline.named_steps['randomforestclassifier']\n",
        "importances = pd.Series(rf.feature_importances_, X_train.columns)\n",
        "\n",
        "%matplotlib inline\n",
        "import matplotlib.pyplot as plt\n",
        "n=20\n",
        "plt.figure(figsize=(10,n/2))\n",
        "plt.title(f'Ranking Features')\n",
        "importances.sort_values()[-n:].plot.barh(color='green');"
      ],
      "execution_count": 0,
      "outputs": []
    },
    {
      "cell_type": "code",
      "metadata": {
        "id": "lKJW4XXJk0Nv",
        "colab_type": "code",
        "colab": {}
      },
      "source": [
        "example = df_new[['fine_amount', 'Time Bins', 'Agency','Issue time']]\n",
        "example.fine_amount = example.fine_amount.astype(float)\n",
        "example"
      ],
      "execution_count": 0,
      "outputs": []
    },
    {
      "cell_type": "code",
      "metadata": {
        "id": "8p5z6-kGjvf_",
        "colab_type": "code",
        "colab": {}
      },
      "source": [
        "import seaborn as sns\n",
        "plt.figure(figsize=(10,5))\n",
        "sns.barplot(x='Agency', y='fine_amount',data=example, color='grey');\n"
      ],
      "execution_count": 0,
      "outputs": []
    },
    {
      "cell_type": "markdown",
      "metadata": {
        "colab_type": "text",
        "id": "gO99pncpALT2"
      },
      "source": [
        "# Shapley Plot "
      ]
    },
    {
      "cell_type": "code",
      "metadata": {
        "colab_type": "code",
        "id": "oj4qcs8yAKVi",
        "colab": {}
      },
      "source": [
        "import numpy as np "
      ],
      "execution_count": 0,
      "outputs": []
    },
    {
      "cell_type": "code",
      "metadata": {
        "id": "X8MouzKrBeZh",
        "colab_type": "code",
        "colab": {}
      },
      "source": [
        "features = ['Issue time', 'Meter Id',  'Agency','Latitude', 'Longitude', 'Make', 'Route', 'Time Bins']"
      ],
      "execution_count": 0,
      "outputs": []
    },
    {
      "cell_type": "code",
      "metadata": {
        "id": "ZON5-dq9pxxJ",
        "colab_type": "code",
        "colab": {}
      },
      "source": [
        "preprocessor = ce.OrdinalEncoder()\n",
        "X_train_transformed = preprocessor.fit_transform(X_train[features])"
      ],
      "execution_count": 0,
      "outputs": []
    },
    {
      "cell_type": "code",
      "metadata": {
        "id": "kNda32AM6FUx",
        "colab_type": "code",
        "colab": {}
      },
      "source": [
        " data_for_prediction = X_train_transformed.loc[0]"
      ],
      "execution_count": 0,
      "outputs": []
    },
    {
      "cell_type": "code",
      "metadata": {
        "id": "bBZgqYoMBTYg",
        "colab_type": "code",
        "colab": {}
      },
      "source": [
        "X_train[features].loc[0]"
      ],
      "execution_count": 0,
      "outputs": []
    },
    {
      "cell_type": "code",
      "metadata": {
        "id": "4JU9Q_ZKpPvB",
        "colab_type": "code",
        "colab": {}
      },
      "source": [
        "data_for_prediction"
      ],
      "execution_count": 0,
      "outputs": []
    },
    {
      "cell_type": "code",
      "metadata": {
        "id": "KToZicPWXZ5N",
        "colab_type": "code",
        "colab": {}
      },
      "source": [
        "\n",
        "import shap\n",
        "\n",
        "explainer = shap.TreeExplainer(model)\n",
        "shap_values = explainer.shap_values(data_for_prediction)\n",
        "\n",
        "shap.initjs()\n",
        "shap.force_plot(explainer.expected_value[0], shap_values[0], data_for_prediction\n",
        ")"
      ],
      "execution_count": 0,
      "outputs": []
    },
    {
      "cell_type": "markdown",
      "metadata": {
        "id": "qhVirA-5dUiK",
        "colab_type": "text"
      },
      "source": [
        "# Map"
      ]
    },
    {
      "cell_type": "code",
      "metadata": {
        "id": "TuAQGDiZnLbp",
        "colab_type": "code",
        "colab": {}
      },
      "source": [
        "import plotly.express as px\n",
        "px.scatter(df_new, x='Longitude', y='Latitude', color='fine_amount', opacity=.7,marginal_y=\"rug\", marginal_x=\"histogram\")"
      ],
      "execution_count": 0,
      "outputs": []
    },
    {
      "cell_type": "code",
      "metadata": {
        "id": "Pyddpc1I1RZE",
        "colab_type": "code",
        "colab": {}
      },
      "source": [
        "px.scatter(X_train, x='Longitude', y='Latitude', color='Time Bins', opacity=.7, marginal_y=\"rug\", marginal_x=\"histogram\")"
      ],
      "execution_count": 0,
      "outputs": []
    },
    {
      "cell_type": "code",
      "metadata": {
        "id": "0QVotqSlPnwz",
        "colab_type": "code",
        "colab": {}
      },
      "source": [
        "px.scatter(X_train, x='Longitude', y='Latitude', color='Meter Id', opacity=.7, marginal_y=\"rug\", marginal_x=\"histogram\")"
      ],
      "execution_count": 0,
      "outputs": []
    },
    {
      "cell_type": "code",
      "metadata": {
        "id": "qI5qFo7Ufg8M",
        "colab_type": "code",
        "colab": {}
      },
      "source": [
        "px.scatter_mapbox(df_new,lat='Latitude', lon='Longitude',color='fine_amount',opacity=.7)"
      ],
      "execution_count": 0,
      "outputs": []
    }
  ]
}